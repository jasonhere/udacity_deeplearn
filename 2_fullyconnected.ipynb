{
 "cells": [
  {
   "cell_type": "markdown",
   "metadata": {
    "colab_type": "text",
    "id": "kR-4eNdK6lYS"
   },
   "source": [
    "Deep Learning\n",
    "=============\n",
    "\n",
    "Assignment 2\n",
    "------------\n",
    "\n",
    "Previously in `1_notmnist.ipynb`, we created a pickle with formatted datasets for training, development and testing on the [notMNIST dataset](http://yaroslavvb.blogspot.com/2011/09/notmnist-dataset.html).\n",
    "\n",
    "The goal of this assignment is to progressively train deeper and more accurate models using TensorFlow."
   ]
  },
  {
   "cell_type": "code",
   "execution_count": 1,
   "metadata": {
    "cellView": "both",
    "colab": {
     "autoexec": {
      "startup": false,
      "wait_interval": 0
     }
    },
    "colab_type": "code",
    "collapsed": true,
    "id": "JLpLa8Jt7Vu4"
   },
   "outputs": [],
   "source": [
    "# These are all the modules we'll be using later. Make sure you can import them\n",
    "# before proceeding further.\n",
    "import numpy as np\n",
    "import tensorflow as tf\n",
    "from six.moves import cPickle as pickle\n",
    "from six.moves import range"
   ]
  },
  {
   "cell_type": "markdown",
   "metadata": {
    "colab_type": "text",
    "id": "1HrCK6e17WzV"
   },
   "source": [
    "First reload the data we generated in `1_notmist.ipynb`."
   ]
  },
  {
   "cell_type": "code",
   "execution_count": 23,
   "metadata": {
    "cellView": "both",
    "colab": {
     "autoexec": {
      "startup": false,
      "wait_interval": 0
     },
     "output_extras": [
      {
       "item_id": 1
      }
     ]
    },
    "colab_type": "code",
    "collapsed": false,
    "executionInfo": {
     "elapsed": 19456,
     "status": "ok",
     "timestamp": 1449847956073,
     "user": {
      "color": "",
      "displayName": "",
      "isAnonymous": false,
      "isMe": true,
      "permissionId": "",
      "photoUrl": "",
      "sessionId": "0",
      "userId": ""
     },
     "user_tz": 480
    },
    "id": "y3-cj1bpmuxc",
    "outputId": "0ddb1607-1fc4-4ddb-de28-6c7ab7fb0c33"
   },
   "outputs": [
    {
     "name": "stdout",
     "output_type": "stream",
     "text": [
      "('Training set', (300000, 28, 28), (300000,))\n",
      "('Validation set', (60000, 28, 28), (60000,))\n",
      "('Test set', (18724, 28, 28), (18724,))\n"
     ]
    }
   ],
   "source": [
    "pickle_file = 'notMNIST.pickle'\n",
    "\n",
    "with open(pickle_file, 'rb') as f:\n",
    "  save = pickle.load(f)\n",
    "  train_dataset = save['train_dataset']\n",
    "  train_labels = save['train_labels']\n",
    "  valid_dataset = save['valid_dataset']\n",
    "  valid_labels = save['valid_labels']\n",
    "  test_dataset = save['test_dataset']\n",
    "  test_labels = save['test_labels']\n",
    "  del save  # hint to help gc free up memory\n",
    "  print('Training set', train_dataset.shape, train_labels.shape)\n",
    "  print('Validation set', valid_dataset.shape, valid_labels.shape)\n",
    "  print('Test set', test_dataset.shape, test_labels.shape)"
   ]
  },
  {
   "cell_type": "markdown",
   "metadata": {
    "colab_type": "text",
    "id": "L7aHrm6nGDMB"
   },
   "source": [
    "Reformat into a shape that's more adapted to the models we're going to train:\n",
    "- data as a flat matrix,\n",
    "- labels as float 1-hot encodings."
   ]
  },
  {
   "cell_type": "code",
   "execution_count": 24,
   "metadata": {
    "cellView": "both",
    "colab": {
     "autoexec": {
      "startup": false,
      "wait_interval": 0
     },
     "output_extras": [
      {
       "item_id": 1
      }
     ]
    },
    "colab_type": "code",
    "collapsed": false,
    "executionInfo": {
     "elapsed": 19723,
     "status": "ok",
     "timestamp": 1449847956364,
     "user": {
      "color": "",
      "displayName": "",
      "isAnonymous": false,
      "isMe": true,
      "permissionId": "",
      "photoUrl": "",
      "sessionId": "0",
      "userId": ""
     },
     "user_tz": 480
    },
    "id": "IRSyYiIIGIzS",
    "outputId": "2ba0fc75-1487-4ace-a562-cf81cae82793"
   },
   "outputs": [
    {
     "name": "stdout",
     "output_type": "stream",
     "text": [
      "('Training set', (300000, 784), (300000, 10))\n",
      "('Validation set', (60000, 784), (60000, 10))\n",
      "('Test set', (18724, 784), (18724, 10))\n"
     ]
    }
   ],
   "source": [
    "image_size = 28\n",
    "num_labels = 10\n",
    "\n",
    "def reformat(dataset, labels):\n",
    "  dataset = dataset.reshape((-1, image_size * image_size)).astype(np.float32)\n",
    "  # Map 0 to [1.0, 0.0, 0.0 ...], 1 to [0.0, 1.0, 0.0 ...]\n",
    "  labels = (np.arange(num_labels) == labels[:,None]).astype(np.float32)\n",
    "  return dataset, labels\n",
    "\n",
    "train_dataset, train_labels = reformat(train_dataset, train_labels)\n",
    "valid_dataset, valid_labels = reformat(valid_dataset, valid_labels)\n",
    "test_dataset, test_labels = reformat(test_dataset, test_labels)\n",
    "print('Training set', train_dataset.shape, train_labels.shape)\n",
    "print('Validation set', valid_dataset.shape, valid_labels.shape)\n",
    "print('Test set', test_dataset.shape, test_labels.shape)"
   ]
  },
  {
   "cell_type": "markdown",
   "metadata": {
    "colab_type": "text",
    "id": "nCLVqyQ5vPPH"
   },
   "source": [
    "We're first going to train a multinomial logistic regression using simple gradient descent.\n",
    "\n",
    "TensorFlow works like this:\n",
    "* First you describe the computation that you want to see performed: what the inputs, the variables, and the operations look like. These get created as nodes over a computation graph. This description is all contained within the block below:\n",
    "\n",
    "      with graph.as_default():\n",
    "          ...\n",
    "\n",
    "* Then you can run the operations on this graph as many times as you want by calling `session.run()`, providing it outputs to fetch from the graph that get returned. This runtime operation is all contained in the block below:\n",
    "\n",
    "      with tf.Session(graph=graph) as session:\n",
    "          ...\n",
    "\n",
    "Let's load all the data into TensorFlow and build the computation graph corresponding to our training:"
   ]
  },
  {
   "cell_type": "code",
   "execution_count": 5,
   "metadata": {
    "cellView": "both",
    "colab": {
     "autoexec": {
      "startup": false,
      "wait_interval": 0
     }
    },
    "colab_type": "code",
    "collapsed": true,
    "id": "Nfv39qvtvOl_"
   },
   "outputs": [],
   "source": [
    "# With gradient descent training, even this much data is prohibitive.\n",
    "# Subset the training data for faster turnaround.\n",
    "train_subset = 10000\n",
    "\n",
    "graph = tf.Graph()\n",
    "with graph.as_default():\n",
    "\n",
    "  # Input data.\n",
    "  # Load the training, validation and test data into constants that are\n",
    "  # attached to the graph.\n",
    "  tf_train_dataset = tf.constant(train_dataset[:train_subset, :])\n",
    "  tf_train_labels = tf.constant(train_labels[:train_subset])\n",
    "  tf_valid_dataset = tf.constant(valid_dataset)\n",
    "  tf_test_dataset = tf.constant(test_dataset)\n",
    "  \n",
    "  # Variables.\n",
    "  # These are the parameters that we are going to be training. The weight\n",
    "  # matrix will be initialized using random valued following a (truncated)\n",
    "  # normal distribution. The biases get initialized to zero.\n",
    "  weights = tf.Variable(\n",
    "    tf.truncated_normal([image_size * image_size, num_labels]))\n",
    "  biases = tf.Variable(tf.zeros([num_labels]))\n",
    "  \n",
    "  # Training computation.\n",
    "  # We multiply the inputs with the weight matrix, and add biases. We compute\n",
    "  # the softmax and cross-entropy (it's one operation in TensorFlow, because\n",
    "  # it's very common, and it can be optimized). We take the average of this\n",
    "  # cross-entropy across all training examples: that's our loss.\n",
    "  logits = tf.matmul(tf_train_dataset, weights) + biases\n",
    "  loss = tf.reduce_mean(\n",
    "    tf.nn.softmax_cross_entropy_with_logits(logits, tf_train_labels))\n",
    "  \n",
    "  # Optimizer.\n",
    "  # We are going to find the minimum of this loss using gradient descent.\n",
    "  optimizer = tf.train.GradientDescentOptimizer(0.5).minimize(loss)\n",
    "  \n",
    "  # Predictions for the training, validation, and test data.\n",
    "  # These are not part of training, but merely here so that we can report\n",
    "  # accuracy figures as we train.\n",
    "  train_prediction = tf.nn.softmax(logits)\n",
    "  valid_prediction = tf.nn.softmax(\n",
    "    tf.matmul(tf_valid_dataset, weights) + biases)\n",
    "  test_prediction = tf.nn.softmax(tf.matmul(tf_test_dataset, weights) + biases)"
   ]
  },
  {
   "cell_type": "markdown",
   "metadata": {
    "colab_type": "text",
    "id": "KQcL4uqISHjP"
   },
   "source": [
    "Let's run this computation and iterate:"
   ]
  },
  {
   "cell_type": "code",
   "execution_count": 6,
   "metadata": {
    "cellView": "both",
    "colab": {
     "autoexec": {
      "startup": false,
      "wait_interval": 0
     },
     "output_extras": [
      {
       "item_id": 9
      }
     ]
    },
    "colab_type": "code",
    "collapsed": false,
    "executionInfo": {
     "elapsed": 57454,
     "status": "ok",
     "timestamp": 1449847994134,
     "user": {
      "color": "",
      "displayName": "",
      "isAnonymous": false,
      "isMe": true,
      "permissionId": "",
      "photoUrl": "",
      "sessionId": "0",
      "userId": ""
     },
     "user_tz": 480
    },
    "id": "z2cjdenH869W",
    "outputId": "4c037ba1-b526-4d8e-e632-91e2a0333267"
   },
   "outputs": [
    {
     "name": "stdout",
     "output_type": "stream",
     "text": [
      "Initialized\n",
      "Loss at step 0: 19.431513\n",
      "Training accuracy: 6.6%\n",
      "Validation accuracy: 10.3%\n",
      "Loss at step 100: 2.436723\n",
      "Training accuracy: 70.9%\n",
      "Validation accuracy: 70.2%\n",
      "Loss at step 200: 1.942931\n",
      "Training accuracy: 73.9%\n",
      "Validation accuracy: 72.8%\n",
      "Loss at step 300: 1.682984\n",
      "Training accuracy: 75.2%\n",
      "Validation accuracy: 73.8%\n",
      "Loss at step 400: 1.511981\n",
      "Training accuracy: 76.0%\n",
      "Validation accuracy: 74.2%\n",
      "Loss at step 500: 1.387057\n",
      "Training accuracy: 76.6%\n",
      "Validation accuracy: 74.5%\n",
      "Loss at step 600: 1.289858\n",
      "Training accuracy: 77.2%\n",
      "Validation accuracy: 74.7%\n",
      "Loss at step 700: 1.210702\n",
      "Training accuracy: 77.8%\n",
      "Validation accuracy: 74.9%\n",
      "Loss at step 800: 1.144348\n",
      "Training accuracy: 78.2%\n",
      "Validation accuracy: 75.1%\n",
      "Test accuracy: 82.5%\n"
     ]
    }
   ],
   "source": [
    "num_steps = 801\n",
    "\n",
    "def accuracy(predictions, labels):\n",
    "  return (100.0 * np.sum(np.argmax(predictions, 1) == np.argmax(labels, 1))\n",
    "          / predictions.shape[0])\n",
    "\n",
    "with tf.Session(graph=graph) as session:\n",
    "  # This is a one-time operation which ensures the parameters get initialized as\n",
    "  # we described in the graph: random weights for the matrix, zeros for the\n",
    "  # biases. \n",
    "  tf.initialize_all_variables().run()\n",
    "  print('Initialized')\n",
    "  for step in range(num_steps):\n",
    "    # Run the computations. We tell .run() that we want to run the optimizer,\n",
    "    # and get the loss value and the training predictions returned as numpy\n",
    "    # arrays.\n",
    "    _, l, predictions = session.run([optimizer, loss, train_prediction])\n",
    "    if (step % 100 == 0):\n",
    "      print('Loss at step %d: %f' % (step, l))\n",
    "      print('Training accuracy: %.1f%%' % accuracy(\n",
    "        predictions, train_labels[:train_subset, :]))\n",
    "      # Calling .eval() on valid_prediction is basically like calling run(), but\n",
    "      # just to get that one numpy array. Note that it recomputes all its graph\n",
    "      # dependencies.\n",
    "      print('Validation accuracy: %.1f%%' % accuracy(\n",
    "        valid_prediction.eval(), valid_labels))\n",
    "  print('Test accuracy: %.1f%%' % accuracy(test_prediction.eval(), test_labels))"
   ]
  },
  {
   "cell_type": "markdown",
   "metadata": {
    "colab_type": "text",
    "id": "x68f-hxRGm3H"
   },
   "source": [
    "Let's now switch to stochastic gradient descent training instead, which is much faster.\n",
    "\n",
    "The graph will be similar, except that instead of holding all the training data into a constant node, we create a `Placeholder` node which will be fed actual data at every call of `sesion.run()`."
   ]
  },
  {
   "cell_type": "code",
   "execution_count": 7,
   "metadata": {
    "cellView": "both",
    "colab": {
     "autoexec": {
      "startup": false,
      "wait_interval": 0
     }
    },
    "colab_type": "code",
    "collapsed": true,
    "id": "qhPMzWYRGrzM"
   },
   "outputs": [],
   "source": [
    "batch_size = 128\n",
    "\n",
    "graph = tf.Graph()\n",
    "with graph.as_default():\n",
    "\n",
    "  # Input data. For the training data, we use a placeholder that will be fed\n",
    "  # at run time with a training minibatch.\n",
    "  tf_train_dataset = tf.placeholder(tf.float32,\n",
    "                                    shape=(batch_size, image_size * image_size))\n",
    "  tf_train_labels = tf.placeholder(tf.float32, shape=(batch_size, num_labels))\n",
    "  tf_valid_dataset = tf.constant(valid_dataset)\n",
    "  tf_test_dataset = tf.constant(test_dataset)\n",
    "  \n",
    "  # Variables.\n",
    "  weights = tf.Variable(\n",
    "    tf.truncated_normal([image_size * image_size, num_labels]))\n",
    "  biases = tf.Variable(tf.zeros([num_labels]))\n",
    "  \n",
    "  # Training computation.\n",
    "  logits = tf.matmul(tf_train_dataset, weights) + biases\n",
    "  loss = tf.reduce_mean(\n",
    "    tf.nn.softmax_cross_entropy_with_logits(logits, tf_train_labels))\n",
    "  \n",
    "  # Optimizer.\n",
    "  optimizer = tf.train.GradientDescentOptimizer(0.5).minimize(loss)\n",
    "  \n",
    "  # Predictions for the training, validation, and test data.\n",
    "  train_prediction = tf.nn.softmax(logits)\n",
    "  valid_prediction = tf.nn.softmax(\n",
    "    tf.matmul(tf_valid_dataset, weights) + biases)\n",
    "  test_prediction = tf.nn.softmax(tf.matmul(tf_test_dataset, weights) + biases)"
   ]
  },
  {
   "cell_type": "markdown",
   "metadata": {
    "colab_type": "text",
    "id": "XmVZESmtG4JH"
   },
   "source": [
    "Let's run it:"
   ]
  },
  {
   "cell_type": "code",
   "execution_count": 8,
   "metadata": {
    "cellView": "both",
    "colab": {
     "autoexec": {
      "startup": false,
      "wait_interval": 0
     },
     "output_extras": [
      {
       "item_id": 6
      }
     ]
    },
    "colab_type": "code",
    "collapsed": false,
    "executionInfo": {
     "elapsed": 66292,
     "status": "ok",
     "timestamp": 1449848003013,
     "user": {
      "color": "",
      "displayName": "",
      "isAnonymous": false,
      "isMe": true,
      "permissionId": "",
      "photoUrl": "",
      "sessionId": "0",
      "userId": ""
     },
     "user_tz": 480
    },
    "id": "FoF91pknG_YW",
    "outputId": "d255c80e-954d-4183-ca1c-c7333ce91d0a"
   },
   "outputs": [
    {
     "name": "stdout",
     "output_type": "stream",
     "text": [
      "Initialized\n",
      "Minibatch loss at step 0: 20.545992\n",
      "Minibatch accuracy: 3.9%\n",
      "Validation accuracy: 7.4%\n",
      "Minibatch loss at step 500: 1.644372\n",
      "Minibatch accuracy: 77.3%\n",
      "Validation accuracy: 75.7%\n",
      "Minibatch loss at step 1000: 1.516829\n",
      "Minibatch accuracy: 76.6%\n",
      "Validation accuracy: 76.5%\n",
      "Minibatch loss at step 1500: 1.501507\n",
      "Minibatch accuracy: 80.5%\n",
      "Validation accuracy: 77.2%\n",
      "Minibatch loss at step 2000: 0.905604\n",
      "Minibatch accuracy: 83.6%\n",
      "Validation accuracy: 77.9%\n",
      "Minibatch loss at step 2500: 1.338037\n",
      "Minibatch accuracy: 73.4%\n",
      "Validation accuracy: 78.2%\n",
      "Minibatch loss at step 3000: 1.062147\n",
      "Minibatch accuracy: 82.0%\n",
      "Validation accuracy: 78.5%\n",
      "Test accuracy: 86.0%\n"
     ]
    }
   ],
   "source": [
    "num_steps = 3001\n",
    "\n",
    "with tf.Session(graph=graph) as session:\n",
    "  tf.initialize_all_variables().run()\n",
    "  print(\"Initialized\")\n",
    "  for step in range(num_steps):\n",
    "    # Pick an offset within the training data, which has been randomized.\n",
    "    # Note: we could use better randomization across epochs.\n",
    "    offset = (step * batch_size) % (train_labels.shape[0] - batch_size)\n",
    "    # Generate a minibatch.\n",
    "    batch_data = train_dataset[offset:(offset + batch_size), :]\n",
    "    batch_labels = train_labels[offset:(offset + batch_size), :]\n",
    "    # Prepare a dictionary telling the session where to feed the minibatch.\n",
    "    # The key of the dictionary is the placeholder node of the graph to be fed,\n",
    "    # and the value is the numpy array to feed to it.\n",
    "    feed_dict = {tf_train_dataset : batch_data, tf_train_labels : batch_labels}\n",
    "    _, l, predictions = session.run(\n",
    "      [optimizer, loss, train_prediction], feed_dict=feed_dict)\n",
    "    if (step % 500 == 0):\n",
    "      print(\"Minibatch loss at step %d: %f\" % (step, l))\n",
    "      print(\"Minibatch accuracy: %.1f%%\" % accuracy(predictions, batch_labels))\n",
    "      print(\"Validation accuracy: %.1f%%\" % accuracy(\n",
    "        valid_prediction.eval(), valid_labels))\n",
    "  print(\"Test accuracy: %.1f%%\" % accuracy(test_prediction.eval(), test_labels))"
   ]
  },
  {
   "cell_type": "markdown",
   "metadata": {
    "colab_type": "text",
    "id": "7omWxtvLLxik"
   },
   "source": [
    "---\n",
    "Problem\n",
    "-------\n",
    "\n",
    "Turn the logistic regression example with SGD into a 1-hidden layer neural network with rectified linear units (nn.relu()) and 1024 hidden nodes. This model should improve your validation / test accuracy.\n",
    "\n",
    "---"
   ]
  },
  {
   "cell_type": "code",
   "execution_count": 38,
   "metadata": {
    "collapsed": false
   },
   "outputs": [],
   "source": [
    "batch_size = 512\n",
    "hidden_nodes = 2048\n",
    "\n",
    "graph = tf.Graph()\n",
    "with graph.as_default():\n",
    "\n",
    "  # Input data. For the training data, we use a placeholder that will be fed\n",
    "  # at run time with a training minibatch.\n",
    "  tf_train_dataset = tf.placeholder(tf.float32,\n",
    "                                    shape=(None, image_size * image_size))\n",
    "  tf_train_labels = tf.placeholder(tf.float32, shape=(None, num_labels))\n",
    "  #tf_valid_dataset = tf.constant(valid_dataset)\n",
    "  #tf_test_dataset = tf.constant(test_dataset)\n",
    "  \n",
    "  # input layer variables\n",
    "  weights_i = tf.Variable(\n",
    "    tf.truncated_normal([image_size * image_size, hidden_nodes]))\n",
    "  biases_i = tf.Variable(tf.zeros([hidden_nodes]))\n",
    "  #input operation\n",
    "  #logits = tf.matmul(tf_train_dataset, weights_i) + biases_i\n",
    "    \n",
    "  # hidden layer variables\n",
    "  #W_fc1 = tf.Variable(tf.truncated_normal([1024, num_labels]))\n",
    "  #b_fc1 = tf.Variable(tf.zeros([num_labels]))\n",
    "\n",
    "  #h_pool2_flat = tf.reshape(weights_i, [-1, 7*7*64])\n",
    "  #h_fc1 = tf.nn.relu(tf.matmul(logits, W_fc1) + b_fc1)\n",
    "  h_fc1 = tf.nn.relu(tf.matmul(tf_train_dataset, weights_i) + biases_i)\n",
    "\n",
    "  # output layer variables\n",
    "  weights_o = tf.Variable(tf.truncated_normal([hidden_nodes, num_labels]))\n",
    "  biases_o = tf.Variable(tf.zeros([num_labels]))\n",
    "  #output operation\n",
    "  logits_o = tf.matmul(h_fc1, weights_o) + biases_o\n",
    "  y_conv = tf.nn.softmax(logits_o)  \n",
    "  #define loss\n",
    "  #loss = tf.reduce_mean(cross_entropy)  \n",
    "  #loss = -tf.reduce_sum(tf_train_labels*tf.log(y_conv))\n",
    "  loss = tf.reduce_mean(\n",
    "    tf.nn.softmax_cross_entropy_with_logits(logits_o, tf_train_labels))\n",
    "  # Optimizer.\n",
    "  #optimizer = tf.train.AdamOptimizer(0.001).minimize(loss)\n",
    "  #decay learning rate\n",
    "  global_step = tf.Variable(0)\n",
    "  learning_rate = tf.train.exponential_decay(\n",
    "    0.1, global_step * batch_size, train_dataset.shape[0] / 2, 0.95, staircase=True)\n",
    "  optimizer = tf.train.GradientDescentOptimizer(learning_rate).minimize(loss, global_step=global_step)\n",
    "  \n",
    "  # Predictions for the training, validation, and test data.\n",
    "  #train_prediction = tf.nn.softmax(logits_o)\n",
    "  #valid_prediction = tf.nn.softmax(\n",
    "  #  tf.matmul(tf_valid_dataset, weights_i) + biases_i)\n",
    "  #test_prediction = tf.nn.softmax(tf.matmul(tf_test_dataset, weights_o) + biases_o)  \n",
    "  is_correct_prediction = tf.equal(tf.argmax(y_conv,1), tf.argmax(tf_train_labels,1))\n",
    "  accuracy_l = tf.reduce_mean(tf.cast(is_correct_prediction, tf.float32))\n",
    "  #tf.nn.softmax(tf.matmul(tf_test_dataset, weights_o) + biases_o)\n",
    "  saver = tf.train.Saver(max_to_keep=20)"
   ]
  },
  {
   "cell_type": "code",
   "execution_count": 39,
   "metadata": {
    "collapsed": false
   },
   "outputs": [
    {
     "name": "stdout",
     "output_type": "stream",
     "text": [
      "Initialized\n",
      "Minibatch loss at step 0: 495.862335 with learning rate 0.100000\n",
      "step 0, training accuracy 0.335938\n",
      "Validation accuracy: 0.277633\n",
      "Minibatch loss at step 200: 31.228142 with learning rate 0.100000\n",
      "step 200, training accuracy 0.828125\n",
      "Validation accuracy: 0.78495\n",
      "Minibatch loss at step 400: 33.188515 with learning rate 0.095000\n",
      "step 400, training accuracy 0.841797\n",
      "Validation accuracy: 0.7955\n",
      "Minibatch loss at step 600: 24.497917 with learning rate 0.090250\n",
      "step 600, training accuracy 0.849609\n",
      "Validation accuracy: 0.826083\n",
      "Minibatch loss at step 800: 20.878269 with learning rate 0.090250\n",
      "step 800, training accuracy 0.853516\n",
      "Validation accuracy: 0.830217\n",
      "Minibatch loss at step 1000: 19.089355 with learning rate 0.085737\n",
      "step 1000, training accuracy 0.871094\n",
      "Validation accuracy: 0.835483\n",
      "Minibatch loss at step 1200: 17.598488 with learning rate 0.081451\n",
      "step 1200, training accuracy 0.878906\n",
      "Validation accuracy: 0.836467\n",
      "Minibatch loss at step 1400: 16.535933 with learning rate 0.081451\n",
      "step 1400, training accuracy 0.833984\n",
      "Validation accuracy: 0.827533\n",
      "Minibatch loss at step 1600: 16.807833 with learning rate 0.077378\n",
      "step 1600, training accuracy 0.853516\n",
      "Validation accuracy: 0.841717\n",
      "Minibatch loss at step 1800: 17.849846 with learning rate 0.073509\n",
      "step 1800, training accuracy 0.835938\n",
      "Validation accuracy: 0.841933\n",
      "Minibatch loss at step 2000: 12.066371 with learning rate 0.073509\n",
      "step 2000, training accuracy 0.859375\n",
      "Validation accuracy: 0.844233\n",
      "Minibatch loss at step 2200: 10.607289 with learning rate 0.069834\n",
      "step 2200, training accuracy 0.888672\n",
      "Validation accuracy: 0.847733\n",
      "Minibatch loss at step 2400: 9.007179 with learning rate 0.066342\n",
      "step 2400, training accuracy 0.894531\n",
      "Validation accuracy: 0.851633\n",
      "Minibatch loss at step 2600: 6.833298 with learning rate 0.066342\n",
      "step 2600, training accuracy 0.921875\n",
      "Validation accuracy: 0.8524\n",
      "Minibatch loss at step 2800: 8.417318 with learning rate 0.063025\n",
      "step 2800, training accuracy 0.896484\n",
      "Validation accuracy: 0.853033\n",
      "Minibatch loss at step 3000: 7.721565 with learning rate 0.059874\n",
      "step 3000, training accuracy 0.896484\n",
      "Validation accuracy: 0.851733\n",
      "Minibatch loss at step 3200: 7.968235 with learning rate 0.059874\n",
      "step 3200, training accuracy 0.896484\n",
      "Validation accuracy: 0.85245\n",
      "Minibatch loss at step 3400: 9.711945 with learning rate 0.056880\n",
      "step 3400, training accuracy 0.882812\n",
      "Validation accuracy: 0.8519\n",
      "Minibatch loss at step 3600: 7.286077 with learning rate 0.054036\n",
      "step 3600, training accuracy 0.882812\n",
      "Validation accuracy: 0.849683\n",
      "Minibatch loss at step 3800: 7.240571 with learning rate 0.054036\n",
      "step 3800, training accuracy 0.880859\n",
      "Validation accuracy: 0.834883\n",
      "Minibatch loss at step 4000: 7.139401 with learning rate 0.051334\n",
      "step 4000, training accuracy 0.890625\n",
      "Validation accuracy: 0.853533\n",
      "Minibatch loss at step 4200: 5.549515 with learning rate 0.048767\n",
      "step 4200, training accuracy 0.904297\n",
      "Validation accuracy: 0.856433\n",
      "Minibatch loss at step 4400: 7.479745 with learning rate 0.046329\n",
      "step 4400, training accuracy 0.898438\n",
      "Validation accuracy: 0.856067\n",
      "Minibatch loss at step 4600: 5.623536 with learning rate 0.046329\n",
      "step 4600, training accuracy 0.914062\n",
      "Validation accuracy: 0.85085\n",
      "Minibatch loss at step 4800: 6.554952 with learning rate 0.044013\n",
      "step 4800, training accuracy 0.867188\n",
      "Validation accuracy: 0.854183\n",
      "Minibatch loss at step 5000: 5.869461 with learning rate 0.041812\n",
      "step 5000, training accuracy 0.90625\n",
      "Validation accuracy: 0.857533\n",
      "Minibatch loss at step 5200: 5.195463 with learning rate 0.041812\n",
      "step 5200, training accuracy 0.917969\n",
      "Validation accuracy: 0.855767\n",
      "Minibatch loss at step 5400: 4.933799 with learning rate 0.039721\n",
      "step 5400, training accuracy 0.904297\n",
      "Validation accuracy: 0.8481\n",
      "Minibatch loss at step 5600: 4.991116 with learning rate 0.037735\n",
      "step 5600, training accuracy 0.914062\n",
      "Validation accuracy: 0.859133\n",
      "Minibatch loss at step 5800: 5.765675 with learning rate 0.037735\n",
      "step 5800, training accuracy 0.904297\n",
      "Validation accuracy: 0.85745\n",
      "Minibatch loss at step 6000: 4.052460 with learning rate 0.035849\n",
      "step 6000, training accuracy 0.910156\n",
      "Validation accuracy: 0.84075\n",
      "Minibatch loss at step 6200: 4.540936 with learning rate 0.034056\n",
      "step 6200, training accuracy 0.916016\n",
      "Validation accuracy: 0.857033\n",
      "Minibatch loss at step 6400: 5.345493 with learning rate 0.034056\n",
      "step 6400, training accuracy 0.878906\n",
      "Validation accuracy: 0.859117\n",
      "Minibatch loss at step 6600: 4.572281 with learning rate 0.032353\n",
      "step 6600, training accuracy 0.90625\n",
      "Validation accuracy: 0.85965\n",
      "Minibatch loss at step 6800: 2.754115 with learning rate 0.030736\n",
      "step 6800, training accuracy 0.931641\n",
      "Validation accuracy: 0.85955\n",
      "Minibatch loss at step 7000: 4.651890 with learning rate 0.030736\n",
      "step 7000, training accuracy 0.910156\n",
      "Validation accuracy: 0.858983\n",
      "Minibatch loss at step 7200: 5.304098 with learning rate 0.029199\n",
      "step 7200, training accuracy 0.904297\n",
      "Validation accuracy: 0.85965\n",
      "Minibatch loss at step 7400: 3.436081 with learning rate 0.027739\n",
      "step 7400, training accuracy 0.917969\n",
      "Validation accuracy: 0.861033\n",
      "Minibatch loss at step 7600: 3.535626 with learning rate 0.027739\n",
      "step 7600, training accuracy 0.90625\n",
      "Validation accuracy: 0.860567\n",
      "Minibatch loss at step 7800: 5.509851 with learning rate 0.026352\n",
      "step 7800, training accuracy 0.896484\n",
      "Validation accuracy: 0.857283\n",
      "Minibatch loss at step 8000: 3.572270 with learning rate 0.025034\n",
      "step 8000, training accuracy 0.919922\n",
      "Validation accuracy: 0.859617\n",
      "Minibatch loss at step 8200: 3.410087 with learning rate 0.025034\n",
      "step 8200, training accuracy 0.921875\n",
      "Validation accuracy: 0.86095\n",
      "Minibatch loss at step 8400: 3.563816 with learning rate 0.023783\n",
      "step 8400, training accuracy 0.917969\n",
      "Validation accuracy: 0.858617\n",
      "Minibatch loss at step 8600: 4.136174 with learning rate 0.022594\n",
      "step 8600, training accuracy 0.925781\n",
      "Validation accuracy: 0.8603\n",
      "Minibatch loss at step 8800: 4.863126 with learning rate 0.021464\n",
      "step 8800, training accuracy 0.896484\n",
      "Validation accuracy: 0.860183\n",
      "Minibatch loss at step 9000: 5.020451 with learning rate 0.021464\n",
      "step 9000, training accuracy 0.900391\n",
      "Validation accuracy: 0.857433\n",
      "Minibatch loss at step 9200: 4.032941 with learning rate 0.020391\n",
      "step 9200, training accuracy 0.917969\n",
      "Validation accuracy: 0.8611\n",
      "Minibatch loss at step 9400: 4.960226 with learning rate 0.019371\n",
      "step 9400, training accuracy 0.894531\n",
      "Validation accuracy: 0.8597\n",
      "Minibatch loss at step 9600: 4.210440 with learning rate 0.019371\n",
      "step 9600, training accuracy 0.898438\n",
      "Validation accuracy: 0.859517\n",
      "Minibatch loss at step 9800: 3.327087 with learning rate 0.018403\n",
      "step 9800, training accuracy 0.927734\n",
      "Validation accuracy: 0.859833\n",
      "Minibatch loss at step 10000: 3.016731 with learning rate 0.017482\n",
      "step 10000, training accuracy 0.921875\n",
      "Validation accuracy: 0.858583\n",
      "test accuracy 0.920263\n"
     ]
    }
   ],
   "source": [
    "num_steps = 10001\n",
    "\n",
    "with tf.Session(graph=graph) as session:\n",
    "  tf.initialize_all_variables().run()\n",
    "  print(\"Initialized\")\n",
    "  for step in range(num_steps):\n",
    "    # Pick an offset within the training data, which has been randomized.\n",
    "    # Note: we could use better randomization across epochs.\n",
    "    offset = (step * batch_size) % (train_labels.shape[0] - batch_size)\n",
    "    # Generate a minibatch.\n",
    "    batch_data = train_dataset[offset:(offset + batch_size), :]\n",
    "    batch_labels = train_labels[offset:(offset + batch_size), :]\n",
    "    # Prepare a dictionary telling the session where to feed the minibatch.\n",
    "    # The key of the dictionary is the placeholder node of the graph to be fed,\n",
    "    # and the value is the numpy array to feed to it.\n",
    "    feed_dict = {tf_train_dataset : batch_data, tf_train_labels : batch_labels}\n",
    "    _, l, lr = session.run(\n",
    "      [optimizer, loss, learning_rate], feed_dict=feed_dict)\n",
    "    if (step % 200 == 0):\n",
    "      print(\"Minibatch loss at step %d: %f with learning rate %f\" % (step, l, lr))\n",
    "      train_accuracy = accuracy_l.eval(feed_dict={tf_train_dataset:batch_data, tf_train_labels: batch_labels})\n",
    "      print \"step %d, training accuracy %g\" % (step, train_accuracy)\n",
    "      print(\"Validation accuracy: %g\" % \n",
    "            accuracy_l.eval(feed_dict={ tf_train_dataset: valid_dataset, tf_train_labels: valid_labels}))\n",
    "      #save model\n",
    "      saver.save(session, './model.ckpt', global_step=step)\n",
    "    \n",
    "  print(\"test accuracy %g\" % accuracy_l.eval(feed_dict={ tf_train_dataset: test_dataset, tf_train_labels: test_labels}))\n",
    "  #print(\"Test accuracy: %.1f%%\" % accuracy_l.eval(test_prediction.eval(), test_labels))"
   ]
  },
  {
   "cell_type": "code",
   "execution_count": 42,
   "metadata": {
    "collapsed": false
   },
   "outputs": [
    {
     "name": "stdout",
     "output_type": "stream",
     "text": [
      "test accuracy 0.921598\n"
     ]
    },
    {
     "data": {
      "image/png": "[encoded data removed]",
      "text/plain": [
       "<matplotlib.figure.Figure at 0x7f830ca3b4d0>"
      ]
     },
     "metadata": {},
     "output_type": "display_data"
    }
   ],
   "source": [
    "%matplotlib inline\n",
    "import matplotlib.pyplot as plt\n",
    "import matplotlib.cm as cm\n",
    "import matplotlib.gridspec as gridspec\n",
    "import random\n",
    "\n",
    "def predict_letter(image, model):\n",
    "    with model.as_default():\n",
    "        probs = y_conv.eval(feed_dict={ tf_train_dataset: image, tf_train_labels: [[0,0,0,0,0,0,0,0,0,0]]})\n",
    "    #print probs\n",
    "    return tf.argmax(probs,1).eval() #return index of max value\n",
    "    \n",
    "\n",
    "def display_sample(dataset, labels, title_label, model=None):    \n",
    "    gs = gridspec.GridSpec(4, 4)\n",
    "    gs.update(wspace=0.3, hspace=1)\n",
    "    fig = plt.figure()    \n",
    "    fig.suptitle(title_label)    \n",
    "    for d in range(0, 16):\n",
    "        a=fig.add_subplot(gs[d])\n",
    "        letter_idx = int(len(dataset)*random.random())\n",
    "        #print(letter_idx)\n",
    "        plt.imshow(dataset[letter_idx].reshape((28,28)), cmap = cm.Greys_r)\n",
    "        l_title = chr(tf.argmax(labels[letter_idx],0).eval() + ord('A'))\n",
    "        if model is not None:\n",
    "            letter_class = predict_letter(dataset[letter_idx].reshape(1, -1), model)\n",
    "            #print letter_class\n",
    "            l_title = l_title + ' / ~' + chr(letter_class + ord('A'))\n",
    "        a.set_title(l_title)\n",
    "        a.axis('off')    \n",
    "    plt.show()\n",
    "    \n",
    "with tf.Session(graph=graph) as sess:\n",
    "    sess.run(tf.initialize_all_variables())\n",
    "    #load model\n",
    "    ckpt = tf.train.get_checkpoint_state('./')\n",
    "    #print ckpt\n",
    "    if ckpt and ckpt.model_checkpoint_path:\n",
    "        saver.restore(sess, ckpt.model_checkpoint_path)\n",
    "    print(\"test accuracy %g\" % \n",
    "          accuracy_l.eval(feed_dict={ tf_train_dataset: test_dataset, tf_train_labels: test_labels}))\n",
    "    display_sample(test_dataset, test_labels, \"tensorflow 1024h\", sess)\n"
   ]
  }
 ],
 "metadata": {
  "colab": {
   "default_view": {},
   "name": "2_fullyconnected.ipynb",
   "provenance": [],
   "version": "0.3.2",
   "views": {}
  },
  "kernelspec": {
   "display_name": "Python 2",
   "language": "python",
   "name": "python2"
  },
  "language_info": {
   "codemirror_mode": {
    "name": "ipython",
    "version": 2
   },
   "file_extension": ".py",
   "mimetype": "text/x-python",
   "name": "python",
   "nbconvert_exporter": "python",
   "pygments_lexer": "ipython2",
   "version": "2.7.6"
  }
 },
 "nbformat": 4,
 "nbformat_minor": 0
}
