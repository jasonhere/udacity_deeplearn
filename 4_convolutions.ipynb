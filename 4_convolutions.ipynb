{
 "cells": [
  {
   "cell_type": "markdown",
   "metadata": {
    "colab_type": "text",
    "id": "4embtkV0pNxM"
   },
   "source": [
    "Deep Learning\n",
    "=============\n",
    "\n",
    "Assignment 4\n",
    "------------\n",
    "\n",
    "Previously in `2_fullyconnected.ipynb` and `3_regularization.ipynb`, we trained fully connected networks to classify [notMNIST](http://yaroslavvb.blogspot.com/2011/09/notmnist-dataset.html) characters.\n",
    "\n",
    "The goal of this assignment is make the neural network convolutional."
   ]
  },
  {
   "cell_type": "code",
   "execution_count": 1,
   "metadata": {
    "cellView": "both",
    "colab": {
     "autoexec": {
      "startup": false,
      "wait_interval": 0
     }
    },
    "colab_type": "code",
    "collapsed": true,
    "id": "tm2CQN_Cpwj0"
   },
   "outputs": [],
   "source": [
    "# These are all the modules we'll be using later. Make sure you can import them\n",
    "# before proceeding further.\n",
    "import numpy as np\n",
    "import tensorflow as tf\n",
    "from six.moves import cPickle as pickle\n",
    "from six.moves import range"
   ]
  },
  {
   "cell_type": "code",
   "execution_count": 2,
   "metadata": {
    "cellView": "both",
    "colab": {
     "autoexec": {
      "startup": false,
      "wait_interval": 0
     },
     "output_extras": [
      {
       "item_id": 1
      }
     ]
    },
    "colab_type": "code",
    "collapsed": false,
    "executionInfo": {
     "elapsed": 11948,
     "status": "ok",
     "timestamp": 1446658914837,
     "user": {
      "color": "",
      "displayName": "",
      "isAnonymous": false,
      "isMe": true,
      "permissionId": "",
      "photoUrl": "",
      "sessionId": "0",
      "userId": ""
     },
     "user_tz": 480
    },
    "id": "y3-cj1bpmuxc",
    "outputId": "016b1a51-0290-4b08-efdb-8c95ffc3cd01"
   },
   "outputs": [
    {
     "name": "stdout",
     "output_type": "stream",
     "text": [
      "('Training set', (300000, 28, 28), (300000,))\n",
      "('Validation set', (18724, 28, 28), (18724,))\n",
      "('Test set', (18724, 28, 28), (18724,))\n"
     ]
    }
   ],
   "source": [
    "pickle_file = 'notMNIST.pickle'\n",
    "\n",
    "with open(pickle_file, 'rb') as f:\n",
    "  save = pickle.load(f)\n",
    "  train_dataset = save['train_dataset']\n",
    "  train_labels = save['train_labels']\n",
    "  valid_dataset = save['valid_dataset']\n",
    "  valid_labels = save['valid_labels']\n",
    "  test_dataset = save['test_dataset']\n",
    "  test_labels = save['test_labels']\n",
    "  del save  # hint to help gc free up memory\n",
    "    \n",
    "  #trim validation dataset (maybe we use it for cross validation later)\n",
    "  valid_dataset = valid_dataset[:18724,:,:]\n",
    "  valid_labels = valid_labels[:18724]\n",
    "    \n",
    "  print('Training set', train_dataset.shape, train_labels.shape)\n",
    "  print('Validation set', valid_dataset.shape, valid_labels.shape)\n",
    "  print('Test set', test_dataset.shape, test_labels.shape)"
   ]
  },
  {
   "cell_type": "markdown",
   "metadata": {
    "colab_type": "text",
    "id": "L7aHrm6nGDMB"
   },
   "source": [
    "Reformat into a TensorFlow-friendly shape:\n",
    "- convolutions need the image data formatted as a cube (width by height by #channels)\n",
    "- labels as float 1-hot encodings."
   ]
  },
  {
   "cell_type": "code",
   "execution_count": 3,
   "metadata": {
    "cellView": "both",
    "colab": {
     "autoexec": {
      "startup": false,
      "wait_interval": 0
     },
     "output_extras": [
      {
       "item_id": 1
      }
     ]
    },
    "colab_type": "code",
    "collapsed": false,
    "executionInfo": {
     "elapsed": 11952,
     "status": "ok",
     "timestamp": 1446658914857,
     "user": {
      "color": "",
      "displayName": "",
      "isAnonymous": false,
      "isMe": true,
      "permissionId": "",
      "photoUrl": "",
      "sessionId": "0",
      "userId": ""
     },
     "user_tz": 480
    },
    "id": "IRSyYiIIGIzS",
    "outputId": "650a208c-8359-4852-f4f5-8bf10e80ef6c"
   },
   "outputs": [
    {
     "name": "stdout",
     "output_type": "stream",
     "text": [
      "('Training set', (300000, 28, 28, 1), (300000, 10))\n",
      "('Validation set', (18724, 28, 28, 1), (18724, 10))\n",
      "('Test set', (18724, 28, 28, 1), (18724, 10))\n"
     ]
    }
   ],
   "source": [
    "image_size = 28\n",
    "num_labels = 10\n",
    "num_channels = 1 # grayscale\n",
    "\n",
    "import numpy as np\n",
    "\n",
    "def reformat(dataset, labels):\n",
    "  dataset = dataset.reshape(\n",
    "    (-1, image_size, image_size, num_channels)).astype(np.float32)\n",
    "  labels = (np.arange(num_labels) == labels[:,None]).astype(np.float32)\n",
    "  return dataset, labels\n",
    "train_dataset, train_labels = reformat(train_dataset, train_labels)\n",
    "valid_dataset, valid_labels = reformat(valid_dataset, valid_labels)\n",
    "test_dataset, test_labels = reformat(test_dataset, test_labels)\n",
    "print('Training set', train_dataset.shape, train_labels.shape)\n",
    "print('Validation set', valid_dataset.shape, valid_labels.shape)\n",
    "print('Test set', test_dataset.shape, test_labels.shape)"
   ]
  },
  {
   "cell_type": "code",
   "execution_count": 4,
   "metadata": {
    "cellView": "both",
    "colab": {
     "autoexec": {
      "startup": false,
      "wait_interval": 0
     }
    },
    "colab_type": "code",
    "collapsed": true,
    "id": "AgQDIREv02p1"
   },
   "outputs": [],
   "source": [
    "def accuracy(predictions, labels):\n",
    "  return (100.0 * np.sum(np.argmax(predictions, 1) == np.argmax(labels, 1))\n",
    "          / predictions.shape[0])"
   ]
  },
  {
   "cell_type": "markdown",
   "metadata": {
    "colab_type": "text",
    "id": "5rhgjmROXu2O"
   },
   "source": [
    "Let's build a small network with two convolutional layers, followed by one fully connected layer. Convolutional networks are more expensive computationally, so we'll limit its depth and number of fully connected nodes."
   ]
  },
  {
   "cell_type": "code",
   "execution_count": 5,
   "metadata": {
    "cellView": "both",
    "colab": {
     "autoexec": {
      "startup": false,
      "wait_interval": 0
     }
    },
    "colab_type": "code",
    "collapsed": true,
    "id": "IZYv70SvvOan"
   },
   "outputs": [],
   "source": [
    "batch_size = 16\n",
    "patch_size = 5\n",
    "depth = 16\n",
    "num_hidden = 64\n",
    "\n",
    "graph = tf.Graph()\n",
    "\n",
    "with graph.as_default():\n",
    "\n",
    "  # Input data.\n",
    "  tf_train_dataset = tf.placeholder(\n",
    "    tf.float32, shape=(batch_size, image_size, image_size, num_channels))\n",
    "  tf_train_labels = tf.placeholder(tf.float32, shape=(batch_size, num_labels))\n",
    "  tf_valid_dataset = tf.constant(valid_dataset)\n",
    "  tf_test_dataset = tf.constant(test_dataset)\n",
    "  \n",
    "  # Variables.\n",
    "  layer1_weights = tf.Variable(tf.truncated_normal(\n",
    "      [patch_size, patch_size, num_channels, depth], stddev=0.1))\n",
    "  layer1_biases = tf.Variable(tf.zeros([depth]))\n",
    "  layer2_weights = tf.Variable(tf.truncated_normal(\n",
    "      [patch_size, patch_size, depth, depth], stddev=0.1))\n",
    "  layer2_biases = tf.Variable(tf.constant(1.0, shape=[depth]))\n",
    "  layer3_weights = tf.Variable(tf.truncated_normal(\n",
    "      [image_size / 4 * image_size / 4 * depth, num_hidden], stddev=0.1))\n",
    "  layer3_biases = tf.Variable(tf.constant(1.0, shape=[num_hidden]))\n",
    "  layer4_weights = tf.Variable(tf.truncated_normal(\n",
    "      [num_hidden, num_labels], stddev=0.1))\n",
    "  layer4_biases = tf.Variable(tf.constant(1.0, shape=[num_labels]))\n",
    "  \n",
    "  # Model.\n",
    "  def model(data):\n",
    "    conv = tf.nn.conv2d(data, layer1_weights, [1, 2, 2, 1], padding='SAME')\n",
    "    hidden = tf.nn.relu(conv + layer1_biases)\n",
    "    conv = tf.nn.conv2d(hidden, layer2_weights, [1, 2, 2, 1], padding='SAME')\n",
    "    hidden = tf.nn.relu(conv + layer2_biases)\n",
    "    shape = hidden.get_shape().as_list()\n",
    "    reshape = tf.reshape(hidden, [shape[0], shape[1] * shape[2] * shape[3]])\n",
    "    hidden = tf.nn.relu(tf.matmul(reshape, layer3_weights) + layer3_biases)\n",
    "    return tf.matmul(hidden, layer4_weights) + layer4_biases\n",
    "  \n",
    "  # Training computation.\n",
    "  logits = model(tf_train_dataset)\n",
    "  loss = tf.reduce_mean(\n",
    "    tf.nn.softmax_cross_entropy_with_logits(logits, tf_train_labels))\n",
    "    \n",
    "  # Optimizer.\n",
    "  optimizer = tf.train.GradientDescentOptimizer(0.05).minimize(loss)\n",
    "  \n",
    "  # Predictions for the training, validation, and test data.\n",
    "  train_prediction = tf.nn.softmax(logits)\n",
    "  valid_prediction = tf.nn.softmax(model(tf_valid_dataset))\n",
    "  test_prediction = tf.nn.softmax(model(tf_test_dataset))"
   ]
  },
  {
   "cell_type": "markdown",
   "metadata": {
    "cellView": "both",
    "colab": {
     "autoexec": {
      "startup": false,
      "wait_interval": 0
     },
     "output_extras": [
      {
       "item_id": 37
      }
     ]
    },
    "colab_type": "code",
    "collapsed": false,
    "executionInfo": {
     "elapsed": 63292,
     "status": "ok",
     "timestamp": 1446658966251,
     "user": {
      "color": "",
      "displayName": "",
      "isAnonymous": false,
      "isMe": true,
      "permissionId": "",
      "photoUrl": "",
      "sessionId": "0",
      "userId": ""
     },
     "user_tz": 480
    },
    "id": "noKFb2UovVFR",
    "outputId": "28941338-2ef9-4088-8bd1-44295661e628"
   },
   "source": [
    "num_steps = 1001\n",
    "\n",
    "with tf.Session(graph=graph) as session:\n",
    "  tf.initialize_all_variables().run()\n",
    "  print('Initialized')\n",
    "  for step in range(num_steps):\n",
    "    offset = (step * batch_size) % (train_labels.shape[0] - batch_size)\n",
    "    batch_data = train_dataset[offset:(offset + batch_size), :, :, :]\n",
    "    batch_labels = train_labels[offset:(offset + batch_size), :]\n",
    "    feed_dict = {tf_train_dataset : batch_data, tf_train_labels : batch_labels}\n",
    "    _, l, predictions = session.run(\n",
    "      [optimizer, loss, train_prediction], feed_dict=feed_dict)\n",
    "    if (step % 50 == 0):\n",
    "      print('Minibatch loss at step %d: %f' % (step, l))\n",
    "      print('Minibatch accuracy: %.1f%%' % accuracy(predictions, batch_labels))\n",
    "      print('Validation accuracy: %.1f%%' % accuracy(\n",
    "        valid_prediction.eval(), valid_labels))\n",
    "  print('Test accuracy: %.1f%%' % accuracy(test_prediction.eval(), test_labels))"
   ]
  },
  {
   "cell_type": "code",
   "execution_count": 10,
   "metadata": {
    "collapsed": false
   },
   "outputs": [],
   "source": [
    "import math\n",
    "\n",
    "def weight_variable(shape, prev_n_count=2, name=None):\n",
    "    initial = tf.truncated_normal(shape, stddev=math.sqrt(2.0/prev_n_count))\n",
    "    #initial = tf.truncated_normal(shape)\n",
    "    return tf.Variable(initial, name)\n",
    "\n",
    "def bias_variable(shape, name=None):\n",
    "    initial = tf.constant(0.0, shape=shape)\n",
    "    return tf.Variable(initial, name)\n",
    "\n",
    "def train_model(num_steps, checkpoint_every, batch_size, graph, is_saving=False, keep_prob = 0.5, restore=False):\n",
    "    with tf.Session(graph=graph) as session:\n",
    "        if restore:\n",
    "            ckpt = tf.train.get_checkpoint_state('./')\n",
    "            #print ckpt\n",
    "            if ckpt and ckpt.model_checkpoint_path:                \n",
    "                filename = ckpt.model_checkpoint_path\n",
    "            saver.restore(session, filename)\n",
    "            print 'session restored from %s' % filename\n",
    "        else:\n",
    "            tf.initialize_all_variables().run()\n",
    "            print(\"Initialized\")\n",
    "        for step in range(num_steps):\n",
    "            # Pick an offset within the training data, which has been randomized.\n",
    "            # Note: we could use better randomization across epochs.\n",
    "            offset = (step * batch_size) % (train_labels.shape[0] - batch_size)\n",
    "            # Generate a minibatch.\n",
    "            batch_data = train_dataset[offset:(offset + batch_size), :]\n",
    "            batch_labels = train_labels[offset:(offset + batch_size), :]\n",
    "            # Prepare a dictionary telling the session where to feed the minibatch.\n",
    "            # The key of the dictionary is the placeholder node of the graph to be fed,\n",
    "            # and the value is the numpy array to feed to it.\n",
    "            feed_dict = {tf_train_dataset : batch_data, tf_train_labels : batch_labels,\n",
    "                         tf_batch_size: batch_size, tf_keep_prob: keep_prob}\n",
    "            _, l, lr = session.run([optimizer, loss, learning_rate], feed_dict=feed_dict)\n",
    "            if (step % checkpoint_every == 0):\n",
    "                print(\"Minibatch loss at step %d: %f with learning rate %f\" % (step, l, lr))\n",
    "                train_accuracy = accuracy_l.eval(feed_dict={tf_train_dataset:batch_data, tf_train_labels: batch_labels,\n",
    "                                                           tf_keep_prob: 1.0})\n",
    "                print \"step %d, training accuracy %g\" % (step, train_accuracy)                \n",
    "                print(\"Validation accuracy: %g\" %\n",
    "                    accuracy_l.eval(feed_dict={ tf_train_dataset: valid_dataset, tf_train_labels: valid_labels,\n",
    "                                              tf_keep_prob: 1.0}))\n",
    "                #save model\n",
    "                if(is_saving):\n",
    "                    saver.save(session, './model.ckpt', global_step=step)\n",
    "        print(\"test accuracy %g\" % \n",
    "              accuracy_l.eval(feed_dict={ tf_train_dataset: test_dataset,\n",
    "                                                              tf_train_labels: test_labels, tf_keep_prob: 1.0}))\n",
    "        \n",
    "%matplotlib inline\n",
    "import matplotlib.pyplot as plt\n",
    "import matplotlib.cm as cm\n",
    "import matplotlib.gridspec as gridspec\n",
    "import random\n",
    "\n",
    "def predict_letter(image, session):\n",
    "    with session.as_default():\n",
    "        probs = y_conv.eval(feed_dict={ tf_train_dataset: [image], tf_train_labels: [[0,0,0,0,0,0,0,0,0,0]],\n",
    "                                      tf_keep_prob: 1.0})\n",
    "    #print probs\n",
    "    return tf.argmax(probs,1).eval() #return index of max value\n",
    "\n",
    "def find_incorrect(dataset, labels, session):\n",
    "    with session.as_default():\n",
    "        #tensor with True when prediction == label\n",
    "        correct_predicitons = is_correct_prediction.eval(feed_dict={ tf_train_dataset: dataset,\n",
    "                                                                    tf_train_labels: labels, tf_keep_prob: 1.0})\n",
    "    #return indexes of invalid\n",
    "    return np.where(correct_predicitons == False)\n",
    "    \n",
    "\n",
    "def display_sample(dataset, labels, title_label, session=None):    \n",
    "    gs = gridspec.GridSpec(4, 4)\n",
    "    gs.update(wspace=0.3, hspace=1)\n",
    "    fig = plt.figure()    \n",
    "    fig.suptitle(title_label, color='white')\n",
    "    fig.patch.set_facecolor('black')\n",
    "    for d in range(0, 16):\n",
    "        a=fig.add_subplot(gs[d])\n",
    "        letter_idx = int(len(dataset)*random.random())\n",
    "        #print(letter_idx)\n",
    "        plt.imshow(dataset[letter_idx].reshape((28,28)), cmap = cm.Greys_r)\n",
    "        l_title = chr(tf.argmax(labels[letter_idx],0).eval() + ord('A'))\n",
    "        if session is not None:\n",
    "            letter_class = predict_letter(dataset[letter_idx], session)\n",
    "            #print letter_class\n",
    "            l_title = l_title + ' / ~' + chr(letter_class + ord('A'))\n",
    "        a.set_title(l_title, color='white')\n",
    "        a.axis('off')    \n",
    "    plt.show()\n",
    "    \n",
    "def display_incorrect_sample(dataset, labels, title_label, num, session=None):    \n",
    "    gs = gridspec.GridSpec(4, int(num / 4) + (0 if num % 4 == 0 else 1))\n",
    "    gs.update(wspace=0.3, hspace=1)\n",
    "    fig = plt.figure()\n",
    "    fig.suptitle(title_label, color='white')\n",
    "    fig.patch.set_facecolor('black')\n",
    "    incorrect = find_incorrect(dataset, labels, session)[0]\n",
    "    no_incorrect = len(incorrect)\n",
    "    print('Incorrect no: %i' % no_incorrect)\n",
    "    #get permutation of incorrects\n",
    "    incorrect = incorrect[np.random.permutation(no_incorrect)]\n",
    "    for d in range(0, num):\n",
    "        a=fig.add_subplot(gs[d])             \n",
    "        letter_idx = incorrect[d]\n",
    "        #print(letter_idx)\n",
    "        plt.imshow(dataset[letter_idx].reshape((28,28)), cmap = cm.Greys_r)\n",
    "        l_title = chr(tf.argmax(labels[letter_idx],0).eval() + ord('A'))\n",
    "        if session is not None:\n",
    "            letter_class = predict_letter(dataset[letter_idx], session)\n",
    "            #print letter_class\n",
    "            l_title = l_title + ' / ~' + chr(letter_class + ord('A'))\n",
    "        a.set_title(l_title, color='white')\n",
    "        a.axis('off')    \n",
    "    plt.show()\n",
    "    \n",
    "def restore_and_display_test(graph, title, display_all=False):\n",
    "    with tf.Session(graph=graph) as sess:\n",
    "        sess.run(tf.initialize_all_variables())\n",
    "        #load model\n",
    "        if display_all:\n",
    "            filenames = saver.last_checkpoints\n",
    "        else:\n",
    "            ckpt = tf.train.get_checkpoint_state('./')\n",
    "            #print ckpt\n",
    "            if ckpt and ckpt.model_checkpoint_path:                \n",
    "                filenames = [ckpt.model_checkpoint_path]\n",
    "        for fn in filenames:\n",
    "            saver.restore(sess, fn)\n",
    "            print(\"test accuracy %g %s\" %\n",
    "                (accuracy_l.eval(feed_dict={ tf_train_dataset: test_dataset, tf_train_labels: test_labels,\n",
    "                                        tf_keep_prob: 1.0}), fn))\n",
    "            #display_sample(test_dataset, test_labels, title +' %s' % fn, num_samples, sess)\n",
    "        \n",
    "def restore_and_display_random_incorrect(num_samples, graph, title, display_all=False):\n",
    "    with tf.Session(graph=graph) as sess:\n",
    "        sess.run(tf.initialize_all_variables())\n",
    "        #load model\n",
    "        if display_all:\n",
    "            filenames = tf.train.last_checkpoints\n",
    "        else:\n",
    "            ckpt = tf.train.get_checkpoint_state('./')\n",
    "            #print ckpt\n",
    "            if ckpt and ckpt.model_checkpoint_path:                \n",
    "                filenames = [ckpt.model_checkpoint_path]\n",
    "        for fn in filenames:\n",
    "            saver.restore(sess, fn)\n",
    "            print(\"test accuracy %g\" % \n",
    "                accuracy_l.eval(feed_dict={ tf_train_dataset: test_dataset, tf_train_labels: test_labels,\n",
    "                                        tf_keep_prob: 1.0}))\n",
    "            display_incorrect_sample(test_dataset, test_labels, title +' %s' % fn, num_samples, sess)"
   ]
  },
  {
   "cell_type": "markdown",
   "metadata": {
    "colab_type": "text",
    "id": "KedKkn4EutIK"
   },
   "source": [
    "---\n",
    "Problem 1\n",
    "---------\n",
    "\n",
    "The convolutional model above uses convolutions with stride 2 to reduce the dimensionality. Replace the strides by a max pooling operation (`nn.max_pool()`) of stride 2 and kernel size 2.\n",
    "\n",
    "---"
   ]
  },
  {
   "cell_type": "code",
   "execution_count": 25,
   "metadata": {
    "collapsed": false
   },
   "outputs": [],
   "source": [
    "patch_size = 5\n",
    "depth = 16\n",
    "hidden_nodes = 64\n",
    "\n",
    "graph = tf.Graph()\n",
    "with graph.as_default():\n",
    "    # Input data. For the training data, we use a placeholder that will be fed\n",
    "    # at run time with a training minibatch.\n",
    "    tf_batch_size = tf.placeholder(tf.int32)\n",
    "    tf_train_dataset = tf.placeholder(tf.float32, shape=(None, image_size, image_size, num_channels))\n",
    "    tf_train_labels = tf.placeholder(tf.float32, shape=(None, num_labels))    \n",
    "    tf_keep_prob = tf.placeholder(tf.float32)\n",
    "\n",
    "    # Variables.\n",
    "    # input layer variables\n",
    "    weights_conv1 = weight_variable([patch_size, patch_size, num_channels, depth], patch_size * patch_size)\n",
    "    biases_conv1 = bias_variable([depth])\n",
    "    weights_conv2 = weight_variable([patch_size, patch_size, depth, depth], patch_size * patch_size)\n",
    "    biases_conv2 = bias_variable([depth])\n",
    "    weights_h1 = weight_variable([image_size / 4 * image_size / 4 * depth, hidden_nodes],\n",
    "                                 image_size / 4 * image_size / 4 * depth)\n",
    "    biases_h1 = bias_variable([hidden_nodes])        \n",
    "    # output layer variables\n",
    "    weights_o = weight_variable([hidden_nodes, num_labels], hidden_nodes)\n",
    "    biases_o = bias_variable([num_labels])        \n",
    "    # Model.\n",
    "    def model(data):\n",
    "        conv = tf.nn.conv2d(data, weights_conv1, strides=[1, 1, 1, 1], padding='SAME')        \n",
    "        #conv = tf.nn.conv2d(data, weights_conv1, strides=[1, 2, 2, 1], padding='SAME')        \n",
    "        pool = tf.nn.max_pool(conv, ksize=[1, 2, 2, 1], strides=[1, 2, 2, 1], padding='SAME')\n",
    "        hidden = tf.nn.relu(pool + biases_conv1)\n",
    "        \n",
    "        \n",
    "        conv = tf.nn.conv2d(hidden, weights_conv2, strides=[1, 1, 1, 1], padding='SAME')        \n",
    "        #conv = tf.nn.conv2d(hidden, weights_conv2, strides=[1, 2, 2, 1], padding='SAME')        \n",
    "        pool = tf.nn.max_pool(conv, ksize=[1, 2, 2, 1], strides=[1, 2, 2, 1], padding='SAME')\n",
    "        hidden = tf.nn.relu(pool + biases_conv2)\n",
    "        \n",
    "        #reshape multidimensional output to flat to connect to dense hidden layer\n",
    "        #shape = pool.get_shape().as_list()\n",
    "        #hidden_flat = tf.reshape(pool, [-1, shape[1] * shape[2] * shape[3]])\n",
    "        shape = hidden.get_shape().as_list()\n",
    "        hidden_flat = tf.reshape(hidden, [-1, shape[1] * shape[2] * shape[3]])\n",
    "        hidden = tf.nn.relu(tf.matmul(hidden_flat, weights_h1) + biases_h1)\n",
    "        return tf.matmul(hidden, weights_o) + biases_o\n",
    "\n",
    "    #output operation\n",
    "    logits_o = model(tf_train_dataset)    \n",
    "    y_conv = tf.nn.softmax(logits_o) #after softmax -> output probabilities / predictions\n",
    "    #define loss\n",
    "    loss = tf.reduce_mean(tf.nn.softmax_cross_entropy_with_logits(logits_o, tf_train_labels))\n",
    "                        #+ (2.0/(3*hidden_nodes))*(tf.nn.l2_loss(weights_i)\n",
    "                        #+ tf.nn.l2_loss(weights_h2)\n",
    "                        #+ tf.nn.l2_loss(weights_h3)))\n",
    "    #decay learning rate\n",
    "    global_step = tf.Variable(0)\n",
    "    learning_rate = tf.train.exponential_decay(\n",
    "        0.1, global_step * tf_batch_size, train_dataset.shape[0] / 1, 0.95, staircase=True)\n",
    "    #Optimizer\n",
    "    optimizer = tf.train.GradientDescentOptimizer(learning_rate).minimize(loss, global_step=global_step)\n",
    "    #learning_rate = tf.constant(0.01)\n",
    "    #optimizer = tf.train.AdamOptimizer(learning_rate).minimize(loss, global_step=global_step)\n",
    "\n",
    "    #define operations to measure accuracy\n",
    "    is_correct_prediction = tf.equal(tf.argmax(y_conv,1), tf.argmax(tf_train_labels,1))\n",
    "    accuracy_l = tf.reduce_mean(tf.cast(is_correct_prediction, tf.float32))\n",
    "    #train_prediction = tf.nn.softmax(logits_o)\n",
    "    #valid_prediction = tf.nn.softmax(model(tf_valid_dataset))\n",
    "    #test_prediction = tf.nn.softmax(model(tf_test_dataset))\n",
    "    #saving mode\n",
    "    saver = tf.train.Saver(max_to_keep=20)    "
   ]
  },
  {
   "cell_type": "code",
   "execution_count": 26,
   "metadata": {
    "collapsed": false
   },
   "outputs": [
    {
     "name": "stdout",
     "output_type": "stream",
     "text": [
      "Initialized\n",
      "Minibatch loss at step 0: 3.795160 with learning rate 0.100000\n",
      "step 0, training accuracy 0.226562\n",
      "Validation accuracy: 0.152692\n",
      "Minibatch loss at step 500: 0.544031 with learning rate 0.100000\n",
      "step 500, training accuracy 0.882812\n",
      "Validation accuracy: 0.860073\n",
      "Minibatch loss at step 1000: 0.379463 with learning rate 0.100000\n",
      "step 1000, training accuracy 0.914062\n",
      "Validation accuracy: 0.878925\n",
      "Minibatch loss at step 1500: 0.486052 with learning rate 0.100000\n",
      "step 1500, training accuracy 0.890625\n",
      "Validation accuracy: 0.885495\n",
      "Minibatch loss at step 2000: 0.412556 with learning rate 0.100000\n",
      "step 2000, training accuracy 0.90625\n",
      "Validation accuracy: 0.89217\n",
      "Minibatch loss at step 2500: 0.468669 with learning rate 0.095000\n",
      "step 2500, training accuracy 0.859375\n",
      "Validation accuracy: 0.896069\n",
      "Minibatch loss at step 3000: 0.316876 with learning rate 0.095000\n",
      "step 3000, training accuracy 0.921875\n",
      "Validation accuracy: 0.897084\n",
      "Minibatch loss at step 3500: 0.430827 with learning rate 0.095000\n",
      "step 3500, training accuracy 0.898438\n",
      "Validation accuracy: 0.896657\n",
      "Minibatch loss at step 4000: 0.350021 with learning rate 0.095000\n",
      "step 4000, training accuracy 0.90625\n",
      "Validation accuracy: 0.901997\n",
      "Minibatch loss at step 4500: 0.300836 with learning rate 0.095000\n",
      "step 4500, training accuracy 0.921875\n",
      "Validation accuracy: 0.897565\n",
      "Minibatch loss at step 5000: 0.356908 with learning rate 0.090250\n",
      "step 5000, training accuracy 0.90625\n",
      "Validation accuracy: 0.902104\n",
      "test accuracy 0.953642\n"
     ]
    }
   ],
   "source": [
    "train_model(5001, 500, 128, graph, is_saving=True, keep_prob = 1.0)"
   ]
  },
  {
   "cell_type": "code",
   "execution_count": 27,
   "metadata": {
    "collapsed": false
   },
   "outputs": [
    {
     "name": "stdout",
     "output_type": "stream",
     "text": [
      "test accuracy 0.953642\n"
     ]
    },
    {
     "data": {
      "image/png": "[encoded data removed]",
      "text/plain": [
       "<matplotlib.figure.Figure at 0x7f9af700cad0>"
      ]
     },
     "metadata": {},
     "output_type": "display_data"
    },
    {
     "name": "stdout",
     "output_type": "stream",
     "text": [
      "test accuracy 0.953642\n",
      "Incorrect no: 868\n"
     ]
    },
    {
     "data": {
      "image/png": "[encoded data removed]",
      "text/plain": [
       "<matplotlib.figure.Figure at 0x7f9af6404e10>"
      ]
     },
     "metadata": {},
     "output_type": "display_data"
    }
   ],
   "source": [
    "restore_and_display_test(graph, \"l2 reg 3h\")\n",
    "restore_and_display_random_incorrect(16, graph, \"l2 reg 1024\")"
   ]
  },
  {
   "cell_type": "markdown",
   "metadata": {
    "colab_type": "text",
    "id": "klf21gpbAgb-"
   },
   "source": [
    "---\n",
    "Problem 2\n",
    "---------\n",
    "\n",
    "Try to get the best performance you can using a convolutional net. Look for example at the classic [LeNet5](http://yann.lecun.com/exdb/lenet/) architecture, adding Dropout, and/or adding learning rate decay.\n",
    "\n",
    "---"
   ]
  },
  {
   "cell_type": "code",
   "execution_count": 7,
   "metadata": {
    "collapsed": false
   },
   "outputs": [
    {
     "name": "stdout",
     "output_type": "stream",
     "text": [
      "[None, 14, 14, 32]\n",
      "[None, 7, 7, 64]\n",
      "[None, 4, 4, 128]\n",
      "[None, 2, 2, 256]\n",
      "[None, 1024]\n",
      "[None, 256]\n",
      "[None, 50]\n",
      "L2 regu elems: 3\n"
     ]
    }
   ],
   "source": [
    "graph = tf.Graph()\n",
    "with graph.as_default():\n",
    "    # Input data. For the training data, we use a placeholder that will be fed\n",
    "    # at run time with a training minibatch.\n",
    "    tf_batch_size = tf.placeholder(tf.int32)\n",
    "    tf_train_dataset = tf.placeholder(tf.float32, shape=(None, image_size, image_size, num_channels))\n",
    "    tf_train_labels = tf.placeholder(tf.float32, shape=(None, num_labels))    \n",
    "    tf_keep_prob = tf.placeholder(tf.float32)\n",
    "    \n",
    "    regu_weights = []\n",
    "\n",
    "    def convolution_block(block_name, input_data, prev_depth, conv_depth, patch_size, conv_stride,\n",
    "                          pool_ksize=None, pool_stride=None, padding='SAME', hasLrn=True):\n",
    "        with tf.variable_scope(block_name):\n",
    "            weights = weight_variable([patch_size, patch_size, prev_depth, conv_depth], 20000, #patch_size*patch_size 20000 gives 0.01 stdev\n",
    "                                     name=block_name + '_weights')\n",
    "            biases = bias_variable([conv_depth], name=block_name + '_biases')\n",
    "            conv = tf.nn.conv2d(input_data, weights, strides=conv_stride, padding=padding)\n",
    "            hidden = tf.nn.elu(conv + biases)\n",
    "            #lrn\n",
    "            if hasLrn:\n",
    "                lrn = tf.nn.local_response_normalization(hidden, depth_radius=5, alpha=0.0001, beta=0.75)\n",
    "            else:\n",
    "                lrn = hidden\n",
    "            #pooling\n",
    "            if pool_ksize is None:\n",
    "                return lrn\n",
    "            else:\n",
    "                pool = tf.nn.max_pool(lrn, ksize=pool_ksize, strides=pool_stride, padding='SAME')\n",
    "                return pool\n",
    "            \n",
    "    def fc_block(block_name, input_data, input_nodes, hidden_nodes):\n",
    "        with tf.variable_scope(block_name):\n",
    "            weights = weight_variable([input_nodes, hidden_nodes], input_nodes, name=block_name + '_weights')\n",
    "            regu_weights.append(tf.nn.l2_loss(weights))\n",
    "            biases = bias_variable([hidden_nodes], name=block_name + '_biases')\n",
    "            hidden = tf.nn.elu(tf.matmul(input_data, weights) + biases)\n",
    "            return tf.nn.dropout(hidden, tf_keep_prob)\n",
    "            \n",
    "    def model():        \n",
    "        #data = convolution_block('conv3', data, 48, 64, 3, [1,1,1,1], padding='SAME', pool_ksize=None, hasLrn=False)\n",
    "        #shape = data.get_shape().as_list()\n",
    "        #print shape\n",
    "        #data = convolution_block('conv4', data, 64, 64, 3, [1,1,1,1], padding='SAME', pool_ksize=None, hasLrn=False)\n",
    "        #shape = data.get_shape().as_list()\n",
    "        #print shape\n",
    "        #data = convolution_block('conv5', data, 64, 48, 3, [1,1,1,1], [1,3,3,1], [1,1,1,1], 'SAME', hasLrn=False)        \n",
    "        #print shape        \n",
    "        data = convolution_block('conv1', tf_train_dataset, 1, 32, 5, [1,1,1,1], [1,2,2,1], [1,2,2,1], 'SAME', hasLrn=True)\n",
    "        shape = data.get_shape().as_list()\n",
    "        print shape\n",
    "        data = convolution_block('conv2', data, 32, 64, 5, [1,1,1,1], [1,2,2,1], [1,2,2,1], 'SAME', hasLrn=True)        \n",
    "        shape = data.get_shape().as_list()\n",
    "        print shape\n",
    "        data = convolution_block('conv3', data, 64, 128, 3, [1,1,1,1], [1,2,2,1], [1,2,2,1], 'SAME', hasLrn=True)        \n",
    "        shape = data.get_shape().as_list()\n",
    "        print shape\n",
    "        data = convolution_block('conv4', data, 128, 256, 3, [1,1,1,1], [1,2,2,1], [1,2,2,1], 'SAME', hasLrn=True)        \n",
    "        shape = data.get_shape().as_list()\n",
    "        print shape\n",
    "        data_flat = tf.reshape(data, [-1, shape[1] * shape[2] * shape[3]])\n",
    "        input_nodes = 2 * 2 * 256#(image_size / 2) / 2 / 1\n",
    "        data = fc_block('fc6', data_flat, input_nodes, 1024)\n",
    "        shape = data.get_shape().as_list()\n",
    "        print shape \n",
    "        data = fc_block('fc7', data, 1024, 256)\n",
    "        shape = data.get_shape().as_list()\n",
    "        print shape \n",
    "        data = fc_block('fc8', data, 256, 50)\n",
    "        shape = data.get_shape().as_list()\n",
    "        print shape \n",
    "        return data, 50\n",
    "    \n",
    "    def model_prob1():\n",
    "        shape = tf_train_dataset.get_shape().as_list()\n",
    "        print shape        \n",
    "        data = convolution_block('conv1', tf_train_dataset, 1, 32, 5, [1,1,1,1], [1,2,2,1], [1,2,2,1], 'SAME', hasLrn=False)\n",
    "        shape = data.get_shape().as_list()\n",
    "        print shape\n",
    "        data = convolution_block('conv2', data, 32, 64, 5, [1,1,1,1], [1,2,2,1], [1,2,2,1], 'SAME', hasLrn=False)        \n",
    "        shape = data.get_shape().as_list()\n",
    "        print shape        \n",
    "        data_flat = tf.reshape(data, [-1, shape[1] * shape[2] * shape[3]])\n",
    "        input_nodes = 7 * 7 * 64#(image_size / 2) / 2 / 1\n",
    "        data = fc_block('fc6', data_flat, input_nodes, 1024)\n",
    "        shape = data.get_shape().as_list()\n",
    "        print shape \n",
    "        data = fc_block('fc7', data, 1024, 256)\n",
    "        shape = data.get_shape().as_list()\n",
    "        print shape \n",
    "        data = fc_block('fc8', data, 256, 50)\n",
    "        shape = data.get_shape().as_list()\n",
    "        print shape \n",
    "        return data, 50\n",
    "            \n",
    "    # output layer variables\n",
    "    data, exit_nodes = model()\n",
    "    weights_o = weight_variable([exit_nodes, num_labels], exit_nodes)\n",
    "    biases_o = bias_variable([num_labels])            \n",
    "    #output operation\n",
    "    logits_o = tf.matmul(data, weights_o) + biases_o\n",
    "    y_conv = tf.nn.softmax(logits_o) #after softmax -> output probabilities / predictions\n",
    "    #define loss\n",
    "    print \"L2 regu elems: %i\" % len(regu_weights)\n",
    "    loss = tf.reduce_mean(tf.nn.softmax_cross_entropy_with_logits(logits_o, tf_train_labels) +\n",
    "                        (0 if len(regu_weights) == 0 else (2.0/(3*1024)) * sum(regu_weights)))\n",
    "                            #* reduce(lambda q, p: p+q, x)))\n",
    "                    #+ (2.0/(3*hidden_nodes))*(tf.nn.l2_loss(weights_i)\n",
    "                    #+ tf.nn.l2_loss(weights_h2)\n",
    "                    #+ tf.nn.l2_loss(weights_h3)))\n",
    "    #decay learning rate\n",
    "    global_step = tf.Variable(0)\n",
    "    learning_rate = tf.train.exponential_decay(\n",
    "        0.1, global_step * tf_batch_size, train_dataset.shape[0] / 1, 0.95, staircase=True)\n",
    "    #Optimizer\n",
    "    optimizer = tf.train.GradientDescentOptimizer(learning_rate).minimize(loss, global_step=global_step)\n",
    "    #learning_rate = tf.constant(0.01)\n",
    "    #optimizer = tf.train.AdamOptimizer(learning_rate).minimize(loss, global_step=global_step)\n",
    "\n",
    "    #define operations to measure accuracy\n",
    "    is_correct_prediction = tf.equal(tf.argmax(y_conv,1), tf.argmax(tf_train_labels,1))\n",
    "    accuracy_l = tf.reduce_mean(tf.cast(is_correct_prediction, tf.float32))        \n",
    "    #saving mode\n",
    "    saver = tf.train.Saver(max_to_keep=20)   "
   ]
  },
  {
   "cell_type": "code",
   "execution_count": null,
   "metadata": {
    "collapsed": false
   },
   "outputs": [
    {
     "name": "stdout",
     "output_type": "stream",
     "text": [
      "session restored from ./model.ckpt-18000\n",
      "Minibatch loss at step 0: 0.267122 with learning rate 0.069834\n",
      "step 0, training accuracy 0.976562\n",
      "Validation accuracy: 0.93057\n",
      "Minibatch loss at step 500: 0.339107 with learning rate 0.069834\n",
      "step 500, training accuracy 0.96875"
     ]
    }
   ],
   "source": [
    "train_model(50001, 500, 128, graph, is_saving=True, keep_prob = 0.7, restore=True)"
   ]
  },
  {
   "cell_type": "code",
   "execution_count": 120,
   "metadata": {
    "collapsed": false
   },
   "outputs": [
    {
     "name": "stdout",
     "output_type": "stream",
     "text": [
      "test accuracy 0.967956 ./model.ckpt-13000\n",
      "test accuracy 0.969398 ./model.ckpt-13500\n",
      "test accuracy 0.970038 ./model.ckpt-14000\n",
      "test accuracy 0.969237 ./model.ckpt-14500\n",
      "test accuracy 0.971694 ./model.ckpt-15000\n",
      "test accuracy 0.97116 ./model.ckpt-15500\n",
      "test accuracy 0.970946 ./model.ckpt-16000\n",
      "test accuracy 0.970519 ./model.ckpt-16500\n",
      "test accuracy 0.970786 ./model.ckpt-17000\n",
      "test accuracy 0.972121 ./model.ckpt-17500\n",
      "test accuracy 0.971053 ./model.ckpt-18000\n",
      "test accuracy 0.970893 ./model.ckpt-18500\n",
      "test accuracy 0.972495 ./model.ckpt-19000\n",
      "test accuracy 0.972869 ./model.ckpt-19500\n",
      "test accuracy 0.972816 ./model.ckpt-20000\n",
      "test accuracy 0.972228 ./model.ckpt-20500\n",
      "test accuracy 0.972015 ./model.ckpt-21000\n",
      "test accuracy 0.972442 ./model.ckpt-21500\n",
      "test accuracy 0.972655 ./model.ckpt-22000\n",
      "test accuracy 0.973457 ./model.ckpt-22500\n",
      "test accuracy 0.973457\n",
      "Incorrect no: 497\n"
     ]
    },
    {
     "data": {
      "image/png": "[encoded data removed]",
      "text/plain": [
       "<matplotlib.figure.Figure at 0x7f9af5ce5c10>"
      ]
     },
     "metadata": {},
     "output_type": "display_data"
    }
   ],
   "source": [
    "restore_and_display_test(graph, \"l2 reg 3h\", display_all=True)\n",
    "restore_and_display_random_incorrect(16, graph, \"l2 reg 1024\")"
   ]
  },
  {
   "cell_type": "markdown",
   "metadata": {},
   "source": [
    "A good result no 1:\n",
    "\n",
    "    test accuracy 0.973457\n",
    "    Incorrect no: 497\n",
    "    \n",
    "for elu activation, l2 regu, maximum at 19000 step\n",
    "\n",
    "    [None, 28, 28, 1]\n",
    "    [None, 14, 14, 32]\n",
    "    [None, 7, 7, 64]\n",
    "    [None, 1024]\n",
    "    [None, 256]\n",
    "    [None, 50]\n",
    "    L2 regu elems: 3\n",
    "    train_model(50001, 500, 128, graph, is_saving=True, keep_prob = 0.8)\n",
    "    \n",
    "    step 19000, training accuracy 0.953125\n",
    "    Validation accuracy: 0.931158\n",
    "    Minibatch loss at step 19500: 0.336240 with learning rate 0.066342\n",
    "    step 19500, training accuracy 0.960938\n",
    "    Validation accuracy: 0.929022\n",
    "    Minibatch loss at step 20000: 0.383364 with learning rate 0.066342\n",
    "    step 20000, training accuracy 0.953125\n",
    "    Validation accuracy: 0.929022\n",
    "    Minibatch loss at step 20500: 0.252442 with learning rate 0.066342\n",
    "    step 20500, training accuracy 0.992188\n",
    "    Validation accuracy: 0.929342\n",
    "    Minibatch loss at step 21000: 0.328111 with learning rate 0.066342\n",
    "    step 21000, training accuracy 0.96875\n",
    "    Validation accuracy: 0.929128\n",
    "    Minibatch loss at step 21500: 0.289328 with learning rate 0.063025\n",
    "    step 21500, training accuracy 0.992188\n",
    "    Validation accuracy: 0.928701\n",
    "    Minibatch loss at step 22000: 0.368480 with learning rate 0.063025\n",
    "    step 22000, training accuracy 0.960938\n",
    "    Validation accuracy: 0.927366\n",
    "    Minibatch loss at step 22500: 0.335005 with learning rate 0.063025\n",
    "    step 22500, training accuracy 0.976562\n",
    "    Validation accuracy: 0.93057\n",
    "    \n",
    "    test accuracy 0.967956 ./model.ckpt-13000\n",
    "    test accuracy 0.969398 ./model.ckpt-13500\n",
    "    test accuracy 0.970038 ./model.ckpt-14000\n",
    "    test accuracy 0.969237 ./model.ckpt-14500\n",
    "    test accuracy 0.971694 ./model.ckpt-15000\n",
    "    test accuracy 0.97116 ./model.ckpt-15500\n",
    "    test accuracy 0.970946 ./model.ckpt-16000\n",
    "    test accuracy 0.970519 ./model.ckpt-16500\n",
    "    test accuracy 0.970786 ./model.ckpt-17000\n",
    "    test accuracy 0.972121 ./model.ckpt-17500\n",
    "    test accuracy 0.971053 ./model.ckpt-18000\n",
    "    test accuracy 0.970893 ./model.ckpt-18500\n",
    "    test accuracy 0.972495 ./model.ckpt-19000\n",
    "    test accuracy 0.972869 ./model.ckpt-19500\n",
    "    test accuracy 0.972816 ./model.ckpt-20000\n",
    "    test accuracy 0.972228 ./model.ckpt-20500\n",
    "    test accuracy 0.972015 ./model.ckpt-21000\n",
    "    test accuracy 0.972442 ./model.ckpt-21500\n",
    "    test accuracy 0.972655 ./model.ckpt-22000\n",
    "    test accuracy 0.973457 ./model.ckpt-22500\n",
    "    "
   ]
  }
 ],
 "metadata": {
  "colab": {
   "default_view": {},
   "name": "4_convolutions.ipynb",
   "provenance": [],
   "version": "0.3.2",
   "views": {}
  },
  "kernelspec": {
   "display_name": "Python 2",
   "language": "python",
   "name": "python2"
  },
  "language_info": {
   "codemirror_mode": {
    "name": "ipython",
    "version": 2
   },
   "file_extension": ".py",
   "mimetype": "text/x-python",
   "name": "python",
   "nbconvert_exporter": "python",
   "pygments_lexer": "ipython2",
   "version": "2.7.6"
  }
 },
 "nbformat": 4,
 "nbformat_minor": 0
}
